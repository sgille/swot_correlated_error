{
 "cells": [
  {
   "cell_type": "code",
   "execution_count": 1,
   "id": "966044ac",
   "metadata": {},
   "outputs": [],
   "source": [
    "import numpy as np\n",
    "import scipy\n",
    "import xarray as xr\n",
    "import cmocean as cmo\n",
    "import matplotlib.pyplot as plt\n",
    "from swath_rossby_wave import build_h_matrix2\n",
    "from swath_rossby_wave import inversion"
   ]
  },
  {
   "cell_type": "code",
   "execution_count": 2,
   "id": "4b756a9f",
   "metadata": {},
   "outputs": [],
   "source": [
    "# define longitude/latitude domain, based on grid points in AVISO subsampled files\n",
    "lonidx_west, lonidx_east  =  74, 110\n",
    "latidx_south, latidx_north = 25, 65"
   ]
  },
  {
   "cell_type": "code",
   "execution_count": 3,
   "id": "85a0edf0",
   "metadata": {},
   "outputs": [],
   "source": [
    "# read AVISO SSH\n",
    "aviso_ds = xr.open_dataset('./aviso_msla_ccs_1d.nc')\n",
    "SSHA = aviso_ds.msla[latidx_south:latidx_north, lonidx_west:lonidx_east, :]\n",
    "T_time = aviso_ds.time.data[:] * 86400 # in seconds\n",
    "\n",
    "lon, lat = (360 - aviso_ds.lon[lonidx_west:lonidx_east].data) * -1, aviso_ds.lat[latidx_south:latidx_north].data\n",
    "dlon = lon - lon.mean()\n",
    "dlat = lat - lat.mean()"
   ]
  },
  {
   "cell_type": "code",
   "execution_count": 4,
   "id": "c75e404e",
   "metadata": {},
   "outputs": [
    {
     "name": "stderr",
     "output_type": "stream",
     "text": [
      "/usr/local/anaconda3/lib/python3.7/site-packages/xarray/core/nanops.py:140: RuntimeWarning: Mean of empty slice\n",
      "  return np.nanmean(a, axis=axis, dtype=dtype)\n"
     ]
    }
   ],
   "source": [
    "ssha_time_mean = SSHA[:, :, : ].mean(axis = -1) # remove multi-year mean (climatology)"
   ]
  },
  {
   "cell_type": "code",
   "execution_count": 5,
   "id": "b7f01e35",
   "metadata": {},
   "outputs": [],
   "source": [
    "# remove mean from SSH data to produce anomaly over full analysis period\n",
    "# obtain land masl\n",
    "SSHA = SSHA - ssha_time_mean \n",
    "      # alternatively could remove 80-day mean  SSHA[day0 + day0 + 30].mean(axis = -1) \n",
    "SSHA_masked = np.ma.masked_invalid(SSHA)\n",
    "ssha_mask = np.ma.getmask(SSHA_masked)"
   ]
  },
  {
   "cell_type": "code",
   "execution_count": 6,
   "id": "55f52135",
   "metadata": {},
   "outputs": [
    {
     "data": {
      "text/plain": [
       "<matplotlib.collections.QuadMesh at 0x7f3f5844dd50>"
      ]
     },
     "execution_count": 6,
     "metadata": {},
     "output_type": "execute_result"
    },
    {
     "data": {
      "image/png": "[encoded data removed]",
      "text/plain": [
       "<Figure size 432x288 with 1 Axes>"
      ]
     },
     "metadata": {
      "needs_background": "light"
     },
     "output_type": "display_data"
    }
   ],
   "source": [
    "# plot land mask for reference\n",
    "plt.pcolormesh(ssha_mask[:,:,0])"
   ]
  },
  {
   "cell_type": "code",
   "execution_count": 7,
   "id": "205a8c30",
   "metadata": {},
   "outputs": [],
   "source": [
    "# set Rossby wave model parameters\n",
    "Phi0 = lat.mean() # central latitude (φ0)\n",
    "Omega = 7.27e-5 # Ω is the angular speed of the earth\n",
    "Earth_radius = 6.371e6 / 1e5 # meters\n",
    "Beta = 2 * Omega * np.cos(Phi0*np.pi/180.) / Earth_radius\n",
    "f0 =  2 * Omega * np.sin(Phi0*np.pi/180.) #1.0313e-4 "
   ]
  },
  {
   "cell_type": "code",
   "execution_count": 8,
   "id": "783f3758",
   "metadata": {},
   "outputs": [],
   "source": [
    "# number of modes to use---code only tested for MModes = 1\n",
    "MModes = 1"
   ]
  },
  {
   "cell_type": "code",
   "execution_count": 9,
   "id": "0acfbcd7",
   "metadata": {},
   "outputs": [],
   "source": [
    "# set zonal and meridional wavenumber increments and upper/lower bounds\n",
    "# nominally assume a 10 x 10 degree domain, though we actually use a slightly rectangular domain\n",
    "L_lat = 10 # domain latitude length degree \n",
    "L_lon = 10 # domain lognitude length\n",
    "\n",
    "domain_factor = 1.1 # the smaller, the less waves\n",
    "\n",
    "l_interval = 2 * np.pi / (domain_factor * L_lat) # zonal wavemenumber interval\n",
    "k_interval = 2 * np.pi / (domain_factor * L_lon) # longitutional wavemenumber interval\n",
    "\n",
    "lambda_min = 1.2 # 100km = 1 degree minimum wavelength resolved , the smaller, the more waves\n",
    "\n",
    "#l_min = 0\n",
    "#l_max = 2 * np.pi / lambda_min\n",
    "#k_max = l_max\n",
    "#k_min = -1 * l_max\n",
    "k_min = 0  # stg:  changes to maintain consistent variable names\n",
    "k_max = 2 * np.pi / lambda_min\n",
    "l_max = k_max\n",
    "l_min = -1 * k_max"
   ]
  },
  {
   "cell_type": "code",
   "execution_count": 10,
   "id": "abcfd181",
   "metadata": {},
   "outputs": [],
   "source": [
    "# set range of k and l\n",
    "k_n_orig = np.arange(k_min, k_max, k_interval) # degree^-1  ###stg:  changes for variable name consistency\n",
    "l_n_orig = np.arange(l_min, l_max, l_interval) # degree^-1\n",
    "l_n = l_n_orig.reshape(len(l_n_orig), MModes) #* 0 # lon, zonal propagration \n",
    "k_n = k_n_orig.reshape(len(k_n_orig), MModes) #* 0 # lat, meridonal propagration"
   ]
  },
  {
   "cell_type": "code",
   "execution_count": 11,
   "id": "c39863b0",
   "metadata": {},
   "outputs": [],
   "source": [
    "# set size of wavenumber domain\n",
    "M = k_n.size * l_n.size"
   ]
  },
  {
   "cell_type": "code",
   "execution_count": 12,
   "id": "df4ea64b",
   "metadata": {},
   "outputs": [],
   "source": [
    "# load stratification, taken from numerical model\n",
    "strat_ds = xr.open_dataset('./stratification_sample_ccs.nc')"
   ]
  },
  {
   "cell_type": "code",
   "execution_count": 13,
   "id": "a6dbcf77",
   "metadata": {},
   "outputs": [],
   "source": [
    "# parameters for Rossby wave model\n",
    "Psi = strat_ds.Psi.data\n",
    "Rm = 5e4  / 1e5 # 50 km to degree\n",
    "wavespeed = Rm * f0  # deg / s strat_ds.C2[:MModes].data\n",
    "Rm = np.array([Rm]) #unit: degree "
   ]
  },
  {
   "cell_type": "code",
   "execution_count": 14,
   "id": "1854f2ac",
   "metadata": {},
   "outputs": [],
   "source": [
    "# define covariance matrix (R over P)\n",
    "counter = 0\n",
    "exp=-2\n",
    "k0 = l_n.max() # flat at or below k0 \n",
    "\n",
    "kl, R_over_P = np.zeros(2 * M), np.zeros([2 * M, 2 * M])\n",
    "p_diagonal = np.zeros([2 * M])\n",
    "k_, l_ = np.zeros(len(k_n)*len(l_n)), np.zeros(len(k_n)*len(l_n))\n",
    "R = 0.01 # noise = 1. cm\n",
    "#R=0.\n",
    "counter=0\n",
    "\n",
    "for kk in k_n:\n",
    "    for ll in l_n:\n",
    "        k_[counter] , l_[counter]  = kk, ll\n",
    "        kl[counter] =  np.sqrt(kk ** 2 + ll ** 2) # wavenumber\n",
    "        p_diagonal[2 * counter] = (kl[counter]+k0) ** exp \n",
    "        p_diagonal[2 * counter + 1] = (kl[counter]+k0) ** exp \n",
    "        counter += 1   \n",
    "\n",
    "R_over_P = np.zeros([2 * M, 2 * M])\n",
    "p_factor = .16/p_diagonal.sum() # variance of the model,  convert sum of variance from waven number to meter\n",
    "np.fill_diagonal(R_over_P[:],  R / p_diagonal / p_factor)"
   ]
  },
  {
   "cell_type": "code",
   "execution_count": 15,
   "id": "04e18514",
   "metadata": {},
   "outputs": [],
   "source": [
    "day0 = 0\n",
    "day1 = 40\n",
    "MSLA0 = SSHA_masked[:, :, day0:day1] #AVISO input "
   ]
  },
  {
   "cell_type": "code",
   "execution_count": 16,
   "id": "6e2d0aec",
   "metadata": {},
   "outputs": [],
   "source": [
    "ndays=40\n",
    "H_all, SSH_vector = build_h_matrix2(MSLA0, MModes, k_n, l_n, lon, lat, T_time[:], Psi, Rm, 0)"
   ]
  },
  {
   "cell_type": "code",
   "execution_count": 17,
   "id": "9dc51ad3",
   "metadata": {},
   "outputs": [],
   "source": [
    "# create a dummy masked matrix in order to build the full H matrix\n",
    "ssha_clean = np.ma.masked_invalid(np.zeros([MSLA0.shape[0],MSLA0.shape[1],MSLA0.shape[2]]))"
   ]
  },
  {
   "cell_type": "code",
   "execution_count": 18,
   "id": "a8130df8",
   "metadata": {},
   "outputs": [],
   "source": [
    "# define matrices for first 40 days and last 40 days\n",
    "H_all_full_grid, SSH_vector_full = build_h_matrix2(ssha_clean, MModes, k_n, l_n, lon, lat, T_time[:], Psi, Rm, day0-day0)\n",
    "H_all_full_grid2, SSH_vector2_full = build_h_matrix2(ssha_clean, MModes, k_n, l_n, lon, lat, T_time, Psi, Rm, ndays)\n"
   ]
  },
  {
   "cell_type": "code",
   "execution_count": 19,
   "id": "d5e761ea",
   "metadata": {},
   "outputs": [],
   "source": [
    "# start dates:  first of the month in a leap year\n",
    "day0_array = [0, 31, 60, 91, 121, 152, 182, 213, 244, 274, 305, 335]"
   ]
  },
  {
   "cell_type": "code",
   "execution_count": 20,
   "id": "e7cceb66",
   "metadata": {},
   "outputs": [
    {
     "data": {
      "text/plain": [
       "20"
      ]
     },
     "execution_count": 20,
     "metadata": {},
     "output_type": "execute_result"
    }
   ],
   "source": [
    "int(40/2)"
   ]
  },
  {
   "cell_type": "code",
   "execution_count": 21,
   "id": "e1806907",
   "metadata": {
    "tags": []
   },
   "outputs": [],
   "source": [
    "# loop through all start dates and extract AVISO data and parameters for study region\n",
    "# find fitted coefficients for Rossby wave model\n",
    "# save clean fake data\n",
    "persistence = np.zeros([SSHA_masked.shape[0],SSHA_masked.shape[1],int(ndays*2)])\n",
    "iref=int(ndays/2)\n",
    "for day0 in day0_array[:]:\n",
    "    day1=day0+ndays\n",
    "    time_range = (day1 - day0) * 2 # forecast time range\n",
    "    \n",
    "    MSLA0 = SSHA_masked[:, :, day0:day1] #AVISO input \n",
    "    date_time = aviso_ds.date_time.data[day0:]\n",
    "        \n",
    "    variance_explained_inverse  = np.zeros(time_range)\n",
    "    SSHA_vector=np.ma.compressed(MSLA0.transpose([2,0,1]).flatten())\n",
    "    \n",
    "    # least-squares fit to find best coefficients for non-land data points\n",
    "    amp, ssh_estimated = inversion(SSHA_vector, H_all, R_over_P)\n",
    "    \n",
    "    # first 40 days\n",
    "    MSLA_fwrd=np.matmul(H_all_full_grid, amp)\n",
    "    MSLA_fwrd=MSLA_fwrd.reshape([ndays,MSLA0.shape[0],MSLA0.shape[1]])\n",
    "    MSLA_fwrd=MSLA_fwrd.transpose((1,2,0))\n",
    "    MSLA_fwrd = np.ma.masked_where(np.ma.getmask(MSLA0),MSLA_fwrd)\n",
    "    \n",
    "    # prediction period\n",
    "    MSLA_fwrd2=np.matmul(H_all_full_grid2, amp)\n",
    "    MSLA_fwrd2=MSLA_fwrd2.reshape([ndays,MSLA0.shape[0],MSLA0.shape[1]])\n",
    "    MSLA_fwrd2=MSLA_fwrd2.transpose((1,2,0))\n",
    "    MSLA_fwrd2 = np.ma.masked_where(np.ma.getmask(MSLA0),MSLA_fwrd2)\n",
    "    \n",
    "    # ssh_reconstructed.shape\n",
    "    MSLA_fwrd=np.ma.concatenate((MSLA_fwrd, MSLA_fwrd2),axis=2)\n",
    "    \n",
    "    residual = SSHA_masked[:,:,day0:day0+time_range] - MSLA_fwrd\n",
    "    for i in range(time_range):\n",
    "        persistence[:,:,i]=SSHA_masked[:,:,day0+iref]-SSHA_masked[:,:,day0+i]\n",
    "\n",
    "    variance_explained_inverse = (np.mean(residual**2,axis=(0,1))) / (np.var(SSHA_masked[:,:,day0:day0+time_range],axis=(0,1)))\n",
    "    variance_explained_persistence = (np.nanmean(persistence**2,axis=(0,1))) / (np.var(SSHA_masked[:,:,day0:day0+time_range],axis=(0,1)))\n",
    "    \n",
    "    ds_output = xr.Dataset(data_vars={'l_n' : l_n[:, 0],\n",
    "                                  'k_n' : k_n[:, 0],\n",
    "                                  'Amplitudes': amp,\n",
    "                                  'variance_explained': (('time'), 1-variance_explained_inverse),\n",
    "                                  'variance_explained_persistence': (('time'), 1-variance_explained_persistence),\n",
    "                                  'MSLA_forward' : (('YC', 'XC', 'time'), MSLA_fwrd[:, :, :time_range]),\n",
    "                                  'Rm': Rm,\n",
    "                                  'XC' : (('XC'), lon.data), \n",
    "                                  'YC' : (('YC'), lat.data),\n",
    "                                  'time': date_time[:time_range]},\n",
    "                      attrs = dict(description=('Data sample of the selected waves, amplitudes, estimated SSH anomalies and residual, fit with ' \n",
    "                                                + str(day1 - day0) + '-day prior data.')))\n",
    "    ds_output.to_netcdf('./rossby_wave_estimate_' + str(date_time[0])[:10] +'_' + str(k_n.size * l_n.size) +'waves_swotdomain_'+ str(int((day1 - day0))) +'days.nc')\n",
    "    "
   ]
  },
  {
   "cell_type": "code",
   "execution_count": 22,
   "id": "0094b3ab",
   "metadata": {},
   "outputs": [
    {
     "data": {
      "text/plain": [
       "[<matplotlib.lines.Line2D at 0x7f3f58393810>]"
      ]
     },
     "execution_count": 22,
     "metadata": {},
     "output_type": "execute_result"
    },
    {
     "data": {
      "image/png": "[encoded data removed]",
      "text/plain": [
       "<Figure size 432x288 with 1 Axes>"
      ]
     },
     "metadata": {
      "needs_background": "light"
     },
     "output_type": "display_data"
    }
   ],
   "source": [
    "variance_explained_persistence = (np.nanmean(persistence**2,axis=(0,1))) / (np.var(SSHA_masked[:,:,day0:day0+time_range],axis=(0,1)))\n",
    "\n",
    "plt.plot(variance_explained_persistence)"
   ]
  },
  {
   "cell_type": "code",
   "execution_count": null,
   "id": "7a4a9f92",
   "metadata": {},
   "outputs": [],
   "source": []
  }
 ],
 "metadata": {
  "kernelspec": {
   "display_name": "Python 3 (ipykernel)",
   "language": "python",
   "name": "python3"
  },
  "language_info": {
   "codemirror_mode": {
    "name": "ipython",
    "version": 3
   },
   "file_extension": ".py",
   "mimetype": "text/x-python",
   "name": "python",
   "nbconvert_exporter": "python",
   "pygments_lexer": "ipython3",
   "version": "3.12.5"
  }
 },
 "nbformat": 4,
 "nbformat_minor": 5
}
